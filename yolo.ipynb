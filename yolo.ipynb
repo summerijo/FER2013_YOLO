{
 "cells": [
  {
   "cell_type": "code",
   "execution_count": 1,
   "metadata": {},
   "outputs": [],
   "source": [
    "import cv2\n",
    "import numpy as np\n",
    "import pandas as pd\n",
    "from sklearn.model_selection import train_test_split\n",
    "from sklearn.metrics import classification_report\n",
    "from keras.models import Sequential\n",
    "from keras.layers import Conv2D, MaxPooling2D, Flatten, Dense, Dropout\n",
    "from keras.utils import to_categorical"
   ]
  },
  {
   "cell_type": "code",
   "execution_count": 2,
   "metadata": {},
   "outputs": [],
   "source": [
    "# Load FER2013 dataset\n",
    "data = pd.read_csv(\"fer2013.csv\")"
   ]
  },
  {
   "cell_type": "code",
   "execution_count": 3,
   "metadata": {},
   "outputs": [],
   "source": [
    "# Preprocess data\n",
    "X = []\n",
    "y = []\n",
    "for index, row in data.iterrows():\n",
    "    pixels = np.array(row['pixels'].split(' '), dtype='uint8')\n",
    "    image = pixels.reshape((48, 48))\n",
    "    X.append(image)\n",
    "    y.append(row['emotion'])"
   ]
  },
  {
   "cell_type": "code",
   "execution_count": 4,
   "metadata": {},
   "outputs": [],
   "source": [
    "X = np.array(X)\n",
    "y = np.array(y)"
   ]
  },
  {
   "cell_type": "code",
   "execution_count": 5,
   "metadata": {},
   "outputs": [],
   "source": [
    "# Split data into training and testing sets\n",
    "X_train, X_test, y_train, y_test = train_test_split(X, y, test_size=0.2, random_state=42)"
   ]
  },
  {
   "cell_type": "code",
   "execution_count": 6,
   "metadata": {},
   "outputs": [],
   "source": [
    "# Reshape data and normalize\n",
    "X_train = X_train.reshape(-1, 48, 48, 1) / 255.0\n",
    "X_test = X_test.reshape(-1, 48, 48, 1) / 255.0"
   ]
  },
  {
   "cell_type": "code",
   "execution_count": 7,
   "metadata": {},
   "outputs": [],
   "source": [
    "# Convert labels to one-hot encoding\n",
    "y_train = to_categorical(y_train, num_classes=7)\n",
    "y_test = to_categorical(y_test, num_classes=7)"
   ]
  },
  {
   "cell_type": "code",
   "execution_count": 8,
   "metadata": {},
   "outputs": [],
   "source": [
    "# Define CNN model\n",
    "model = Sequential()\n",
    "model.add(Conv2D(32, (3, 3), activation='relu', input_shape=(48, 48, 1)))\n",
    "model.add(MaxPooling2D((2, 2)))\n",
    "model.add(Conv2D(64, (3, 3), activation='relu'))\n",
    "model.add(MaxPooling2D((2, 2)))\n",
    "model.add(Conv2D(128, (3, 3), activation='relu'))\n",
    "model.add(MaxPooling2D((2, 2)))\n",
    "model.add(Flatten())\n",
    "model.add(Dense(128, activation='relu'))\n",
    "model.add(Dropout(0.5))\n",
    "model.add(Dense(7, activation='softmax'))"
   ]
  },
  {
   "cell_type": "code",
   "execution_count": 9,
   "metadata": {},
   "outputs": [],
   "source": [
    "# Compile the model\n",
    "model.compile(optimizer='adam', loss='categorical_crossentropy', metrics=['accuracy'])"
   ]
  },
  {
   "cell_type": "code",
   "execution_count": 10,
   "metadata": {},
   "outputs": [
    {
     "name": "stdout",
     "output_type": "stream",
     "text": [
      "Epoch 1/20\n",
      "449/449 [==============================] - 43s 20ms/step - loss: 1.7374 - accuracy: 0.2959 - val_loss: 1.5372 - val_accuracy: 0.4007\n",
      "Epoch 2/20\n",
      "449/449 [==============================] - 7s 15ms/step - loss: 1.4784 - accuracy: 0.4304 - val_loss: 1.3668 - val_accuracy: 0.4830\n",
      "Epoch 3/20\n",
      "449/449 [==============================] - 7s 15ms/step - loss: 1.3558 - accuracy: 0.4848 - val_loss: 1.2834 - val_accuracy: 0.5125\n",
      "Epoch 4/20\n",
      "449/449 [==============================] - 7s 15ms/step - loss: 1.2894 - accuracy: 0.5117 - val_loss: 1.2666 - val_accuracy: 0.5202\n",
      "Epoch 5/20\n",
      "449/449 [==============================] - 7s 15ms/step - loss: 1.2313 - accuracy: 0.5338 - val_loss: 1.2085 - val_accuracy: 0.5428\n",
      "Epoch 6/20\n",
      "449/449 [==============================] - 7s 14ms/step - loss: 1.1746 - accuracy: 0.5513 - val_loss: 1.1739 - val_accuracy: 0.5561\n",
      "Epoch 7/20\n",
      "449/449 [==============================] - 6s 14ms/step - loss: 1.1327 - accuracy: 0.5747 - val_loss: 1.1745 - val_accuracy: 0.5559\n",
      "Epoch 8/20\n",
      "449/449 [==============================] - 6s 14ms/step - loss: 1.0925 - accuracy: 0.5859 - val_loss: 1.1490 - val_accuracy: 0.5656\n",
      "Epoch 9/20\n",
      "449/449 [==============================] - 7s 15ms/step - loss: 1.0570 - accuracy: 0.6009 - val_loss: 1.1515 - val_accuracy: 0.5697\n",
      "Epoch 10/20\n",
      "449/449 [==============================] - 7s 15ms/step - loss: 1.0217 - accuracy: 0.6125 - val_loss: 1.1404 - val_accuracy: 0.5726\n",
      "Epoch 11/20\n",
      "449/449 [==============================] - 6s 14ms/step - loss: 0.9858 - accuracy: 0.6283 - val_loss: 1.1550 - val_accuracy: 0.5740\n",
      "Epoch 12/20\n",
      "449/449 [==============================] - 7s 15ms/step - loss: 0.9579 - accuracy: 0.6391 - val_loss: 1.1680 - val_accuracy: 0.5776\n",
      "Epoch 13/20\n",
      "449/449 [==============================] - 7s 16ms/step - loss: 0.9266 - accuracy: 0.6488 - val_loss: 1.1906 - val_accuracy: 0.5698\n",
      "Epoch 14/20\n",
      "449/449 [==============================] - 7s 15ms/step - loss: 0.8896 - accuracy: 0.6599 - val_loss: 1.1741 - val_accuracy: 0.5801\n",
      "Epoch 15/20\n",
      "449/449 [==============================] - 7s 16ms/step - loss: 0.8603 - accuracy: 0.6713 - val_loss: 1.1989 - val_accuracy: 0.5738\n",
      "Epoch 16/20\n",
      "449/449 [==============================] - 7s 16ms/step - loss: 0.8306 - accuracy: 0.6839 - val_loss: 1.1925 - val_accuracy: 0.5795\n",
      "Epoch 17/20\n",
      "449/449 [==============================] - 7s 16ms/step - loss: 0.7985 - accuracy: 0.6964 - val_loss: 1.2298 - val_accuracy: 0.5791\n",
      "Epoch 18/20\n",
      "449/449 [==============================] - 7s 16ms/step - loss: 0.7671 - accuracy: 0.7064 - val_loss: 1.2592 - val_accuracy: 0.5762\n",
      "Epoch 19/20\n",
      "449/449 [==============================] - 7s 17ms/step - loss: 0.7460 - accuracy: 0.7122 - val_loss: 1.2630 - val_accuracy: 0.5839\n",
      "Epoch 20/20\n",
      "449/449 [==============================] - 7s 15ms/step - loss: 0.7198 - accuracy: 0.7234 - val_loss: 1.3199 - val_accuracy: 0.5807\n"
     ]
    },
    {
     "data": {
      "text/plain": [
       "<keras.callbacks.History at 0x1fe43d4faf0>"
      ]
     },
     "execution_count": 10,
     "metadata": {},
     "output_type": "execute_result"
    }
   ],
   "source": [
    "# Train the model\n",
    "model.fit(X_train, y_train, epochs=20, batch_size=64, validation_data=(X_test, y_test))"
   ]
  },
  {
   "cell_type": "code",
   "execution_count": 11,
   "metadata": {},
   "outputs": [],
   "source": [
    "# Save the model\n",
    "model.save(\"emotion_detection_model.h5\")"
   ]
  },
  {
   "cell_type": "code",
   "execution_count": 1,
   "metadata": {},
   "outputs": [],
   "source": [
    "import tensorflow as tf"
   ]
  },
  {
   "cell_type": "code",
   "execution_count": 2,
   "metadata": {},
   "outputs": [
    {
     "name": "stderr",
     "output_type": "stream",
     "text": [
      "WARNING:absl:Found untraced functions such as _jit_compiled_convolution_op, _jit_compiled_convolution_op, _jit_compiled_convolution_op while saving (showing 3 of 3). These functions will not be directly callable after loading.\n"
     ]
    },
    {
     "name": "stdout",
     "output_type": "stream",
     "text": [
      "INFO:tensorflow:Assets written to: C:\\Users\\JIANNE~1\\AppData\\Local\\Temp\\tmpw2rnlhgf\\assets\n"
     ]
    },
    {
     "name": "stderr",
     "output_type": "stream",
     "text": [
      "INFO:tensorflow:Assets written to: C:\\Users\\JIANNE~1\\AppData\\Local\\Temp\\tmpw2rnlhgf\\assets\n"
     ]
    }
   ],
   "source": [
    "# Load the trained Keras model\n",
    "model = tf.keras.models.load_model(\"emotion_detection_model.h5\")\n",
    "\n",
    "# Convert the Keras model to TensorFlow Lite format\n",
    "converter = tf.lite.TFLiteConverter.from_keras_model(model)\n",
    "tflite_model = converter.convert()\n",
    "\n",
    "# Save the TensorFlow Lite model\n",
    "with open(\"emotion_detection_model.tflite\", \"wb\") as f:\n",
    "    f.write(tflite_model)"
   ]
  },
  {
   "cell_type": "code",
   "execution_count": null,
   "metadata": {},
   "outputs": [],
   "source": []
  }
 ],
 "metadata": {
  "kernelspec": {
   "display_name": "py310",
   "language": "python",
   "name": "python3"
  },
  "language_info": {
   "codemirror_mode": {
    "name": "ipython",
    "version": 3
   },
   "file_extension": ".py",
   "mimetype": "text/x-python",
   "name": "python",
   "nbconvert_exporter": "python",
   "pygments_lexer": "ipython3",
   "version": "3.10.13"
  }
 },
 "nbformat": 4,
 "nbformat_minor": 2
}
